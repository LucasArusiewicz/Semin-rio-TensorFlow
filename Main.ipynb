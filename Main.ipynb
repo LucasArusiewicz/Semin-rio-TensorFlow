{
 "cells": [
  {
   "cell_type": "markdown",
   "metadata": {},
   "source": [
    "# Seminário - [TensorFlow](https://www.tensorflow.org/) 1.13.1\n",
    "![alt text](https://www.tensorflow.org/images/tf_logo_social.png)"
   ]
  },
  {
   "cell_type": "markdown",
   "metadata": {},
   "source": [
    "**TensorFlow** é uma biblioteca de software de código aberto para computação numérica, utiliza grafos para representar o fluxo de dados. Os nós do grafo representam operações matemáticas, enquanto as arestas do grafo representam as matrizes de dados multidimensionais (Tensor) que fluem entre eles. Esta arquitetura flexível permite distribuir as operações para serem computadas em uma ou mais CPUs/GPUs, em um desktop, servidor ou dispositivo móvel sem reescrevendo o código. TensorFlow também inclui um kit de ferramentas para a visualização dos dados, o [TensorBoard](https://github.com/tensorflow/tensorboard).\n",
    "\n",
    "- Descrição retirada e traduzida do [Github do TensorFlow](https://github.com/tensorflow/tensorflow).\n",
    "- Para mais detalhes referente a arquitetura do TensorFlow acesse [First Steps with TensorFlow: Toolkit](https://developers.google.com/machine-learning/crash-course/first-steps-with-tensorflow/toolkit), [TensorFlow Architecture](https://www.tensorflow.org/guide/extend/architecture)."
   ]
  },
  {
   "cell_type": "markdown",
   "metadata": {},
   "source": [
    "## A onde é usado\n",
    "- [TensorFlow: uma plataforma de aprendizado de máquina para solucionar problemas impactantes e desafia](https://www.youtube.com/watch?v=NlpS-DhayQA)\n",
    "- [Powered by TensorFlow: helping paleographers transcribe medieval text using machine learning](https://www.youtube.com/watch?v=v-FgOACRgfs)\n",
    "- [Powered by TensorFlow: Airbnb uses machine learning to help categorize its listing photos](https://www.youtube.com/watch?v=tPb2u9kwh2w)\n",
    "- [Powered by TensorFlow: utilizing deep learning to better predict extreme weather](https://www.youtube.com/watch?v=p45kQklIsd4)\n",
    "- [How Machine Learning with TensorFlow Enabled Mobile Proof-Of-Purchase at Coca-Cola](https://developers.googleblog.com/2017/09/how-machine-learning-with-tensorflow.html)"
   ]
  },
  {
   "cell_type": "markdown",
   "metadata": {},
   "source": [
    "## Requisitos\n",
    "\n",
    "Para o acompanhamento deste é material é necessário ter o ambiente de desenvolvimento com as seguintes dependências instaladas:\n",
    "- [TensorFlow 1.13.1](https://www.tensorflow.org/install)\n",
    "- [Matplotlib](https://matplotlib.org/users/installing.html)\n",
    "- [Numpy](https://www.numpy.org/)\n",
    "- [Sklearn](https://scikit-learn.org/stable/install.html)\n",
    "> Através do [Anaconda](https://www.anaconda.com) é possível instalar todas as dependências de uma maneira mais rápida e amigável."
   ]
  },
  {
   "cell_type": "markdown",
   "metadata": {},
   "source": [
    "## Introdução\n",
    "Primeiramente é necessário realizar o import da biblioteca."
   ]
  },
  {
   "cell_type": "code",
   "execution_count": null,
   "metadata": {},
   "outputs": [],
   "source": [
    "import tensorflow as tf"
   ]
  },
  {
   "cell_type": "markdown",
   "metadata": {},
   "source": [
    "#### [Grafos e Sessões](https://www.tensorflow.org/guide/graphs)\n",
    "\n",
    "- Através de grafos o TensorFlow representa os cálculos que vão ser executado durante o fluxo dos Tensores em uma sessão.\n",
    "- Sessão é uma classe que representa a conexão entre o cliente(Python) e a aplicação runtime(C++).\n",
    "- A execução da sessão pode ser feita em dispositivos locais ou remotos.\n",
    "\n",
    "> Para mais detalhes sobre treinamento distribuído acesse [Distributed Training in TensorFlow](https://www.tensorflow.org/guide/distribute_strategy)"
   ]
  },
  {
   "cell_type": "markdown",
   "metadata": {},
   "source": [
    "![alt text](https://www.tensorflow.org/images/tensors_flowing.gif)"
   ]
  },
  {
   "cell_type": "markdown",
   "metadata": {},
   "source": [
    "#### [Tensor](https://www.tensorflow.org/guide/tensors) - [API](https://www.tensorflow.org/api_docs/python/tf/Tensor)\n",
    "- É a estrutura mais importante no **TensorFlow**;\n",
    "- Possuem a estrutura muito semelhante ao array do **Numpy**;\n",
    "- Contém os valores primitivos do fluxo;\n",
    "- Exceto o tipo **tf.Variable**, os seus valores são imutáveis.\n",
    "\n",
    "\n",
    "Para começar, vamos criar algumas variáveis e realizar simples operações."
   ]
  },
  {
   "cell_type": "code",
   "execution_count": null,
   "metadata": {},
   "outputs": [],
   "source": [
    "x = tf.Variable(3, name=\"x\")\n",
    "y = tf.Variable(4, name=\"y\")\n",
    "\n",
    "#f = x * x * y + y + 2\n",
    "f = tf.add(tf.add(tf.multiply(tf.multiply(x, x), y), y), 2)"
   ]
  },
  {
   "cell_type": "code",
   "execution_count": null,
   "metadata": {},
   "outputs": [],
   "source": [
    "f.device"
   ]
  },
  {
   "cell_type": "markdown",
   "metadata": {},
   "source": [
    "Após criar as variáveis é necessário inicializá-las"
   ]
  },
  {
   "cell_type": "code",
   "execution_count": null,
   "metadata": {},
   "outputs": [],
   "source": [
    "init = tf.global_variables_initializer()"
   ]
  },
  {
   "cell_type": "markdown",
   "metadata": {},
   "source": [
    "Para visualizar o resultado é necessário executar em uma sessão"
   ]
  },
  {
   "cell_type": "code",
   "execution_count": null,
   "metadata": {},
   "outputs": [],
   "source": [
    "with tf.Session() as sess:\n",
    "    init.run()\n",
    "    result = f.eval()\n",
    "print(result)"
   ]
  },
  {
   "cell_type": "markdown",
   "metadata": {},
   "source": [
    "## Montando Redes Neurais\n",
    "### Redes Neurais Artificiais (Densa)\n",
    "- [Classificação básica (Low Level API)](Classificação%20básica%20(Low%20Level%20API).ipynb)\n",
    "- [Classificação básica (High Level API)](Classificação%20Básica%20(High%20API).ipynb)\n",
    "\n",
    "### Redes Convolucionais\n",
    "- [Classificação de dígitos (Estimators)](Classificação%20de%20dígitos%20com%20Estimators%20(Redes%20Convolucionais).ipynb)\n",
    "\n",
    "### Informações adicionais\n",
    "- [Premade Estimators](https://www.tensorflow.org/guide/premade_estimators)\n",
    "- [Treine a sua primeira rede neural: Classificação Básica](https://www.tensorflow.org/tutorials/keras/basic_classification)\n",
    "- [Visualização do Data set Iris](plot_iris_dataset.ipynb) - [The Iris Dataset](https://scikit-learn.org/stable/auto_examples/datasets/plot_iris_dataset.html)\n",
    "- [CNNs](https://medium.com/neuronio-br/entendendo-redes-convolucionais-cnns-d10359f21184)\n",
    "- [Publication-ready NN-architecture schematics](http://alexlenail.me/NN-SVG/index.html)\n",
    "\n",
    "#### [Keras](https://keras.io/)\n",
    "- [Getting started](https://keras.io/getting-started/functional-api-guide/)\n",
    "- [Layers](https://keras.io/layers/core/)\n",
    "- [Optimizer](https://keras.io/optimizers/)\n",
    "- [Losses](https://keras.io/losses/)\n",
    "- [Metrics](https://keras.io/metrics/)"
   ]
  }
 ],
 "metadata": {
  "kernelspec": {
   "display_name": "Python 3",
   "language": "python",
   "name": "python3"
  },
  "language_info": {
   "codemirror_mode": {
    "name": "ipython",
    "version": 3
   },
   "file_extension": ".py",
   "mimetype": "text/x-python",
   "name": "python",
   "nbconvert_exporter": "python",
   "pygments_lexer": "ipython3",
   "version": "3.7.1"
  }
 },
 "nbformat": 4,
 "nbformat_minor": 2
}
